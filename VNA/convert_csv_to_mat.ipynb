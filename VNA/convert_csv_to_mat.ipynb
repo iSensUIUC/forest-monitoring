{
 "cells": [
  {
   "cell_type": "code",
   "execution_count": 2,
   "metadata": {},
   "outputs": [
    {
     "name": "stdout",
     "output_type": "stream",
     "text": [
      "Data saved to data_output.mat\n"
     ]
    }
   ],
   "source": [
    "import numpy as np\n",
    "import scipy.io\n",
    "import csv\n",
    "\n",
    "def read_csv_to_numpy(filename):\n",
    "    with open(filename, 'r') as file:\n",
    "        csv_reader = csv.reader(file)\n",
    "        data = list(csv_reader)\n",
    "    return np.array(data, dtype=np.float32)\n",
    "\n",
    "# Read data from CSV files\n",
    "time_data = read_csv_to_numpy('time_array.csv')\n",
    "vRange_data = read_csv_to_numpy('vRange_array.csv').T  # Transposing vRange data\n",
    "pdp_data = read_csv_to_numpy('pdp_array.csv')\n",
    "\n",
    "# Store data in a dictionary\n",
    "mat_data = {\n",
    "    'time_array': time_data,\n",
    "    'vRange_array': vRange_data,\n",
    "    'pdp_array': pdp_data\n",
    "}\n",
    "\n",
    "# Specify the path where you want to save the .mat file\n",
    "mat_file_path = 'C:\\\\Users\\\\wisel\\\\Desktop\\\\modules-main\\\\soil moisture sensing\\\\VNA_data.mat'\n",
    "\n",
    "# Save as a .mat file\n",
    "scipy.io.savemat('VNA_data.mat', mat_data)\n",
    "\n",
    "# Save as a .mat file\n",
    "scipy.io.savemat(mat_file_path, mat_data)\n",
    "\n",
    "print(\"Data saved to data_output.mat\")\n"
   ]
  }
 ],
 "metadata": {
  "kernelspec": {
   "display_name": "Python 3",
   "language": "python",
   "name": "python3"
  },
  "language_info": {
   "codemirror_mode": {
    "name": "ipython",
    "version": 3
   },
   "file_extension": ".py",
   "mimetype": "text/x-python",
   "name": "python",
   "nbconvert_exporter": "python",
   "pygments_lexer": "ipython3",
   "version": "3.11.3"
  }
 },
 "nbformat": 4,
 "nbformat_minor": 2
}
