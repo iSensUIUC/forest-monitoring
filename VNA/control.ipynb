{
 "cells": [
  {
   "cell_type": "code",
   "execution_count": 2,
   "metadata": {},
   "outputs": [
    {
     "name": "stdout",
     "output_type": "stream",
     "text": [
      "Requirement already satisfied: pyvisa in c:\\users\\wisel\\appdata\\local\\programs\\python\\python311\\lib\\site-packages (1.14.0)\n",
      "Requirement already satisfied: typing-extensions in c:\\users\\wisel\\appdata\\local\\programs\\python\\python311\\lib\\site-packages (from pyvisa) (4.8.0)\n"
     ]
    },
    {
     "name": "stderr",
     "output_type": "stream",
     "text": [
      "\n",
      "[notice] A new release of pip available: 22.3.1 -> 23.3.1\n",
      "[notice] To update, run: python.exe -m pip install --upgrade pip\n"
     ]
    }
   ],
   "source": [
    "!pip install -U pyvisa"
   ]
  },
  {
   "cell_type": "code",
   "execution_count": 2,
   "metadata": {},
   "outputs": [
    {
     "data": {
      "text/plain": [
       "('PXI0::8-0.0::INSTR',)"
      ]
     },
     "execution_count": 2,
     "metadata": {},
     "output_type": "execute_result"
    }
   ],
   "source": [
    "import pyvisa as visa\n",
    "rm = visa.ResourceManager()\n",
    "rm.list_resources()"
   ]
  },
  {
   "cell_type": "code",
   "execution_count": 4,
   "metadata": {},
   "outputs": [
    {
     "ename": "AttributeError",
     "evalue": "'PXIInstrument' object has no attribute 'write'",
     "output_type": "error",
     "traceback": [
      "\u001b[1;31m---------------------------------------------------------------------------\u001b[0m",
      "\u001b[1;31mAttributeError\u001b[0m                            Traceback (most recent call last)",
      "\u001b[1;32mc:\\Users\\wisel\\Desktop\\VNA\\control.ipynb Cell 3\u001b[0m line \u001b[0;36m1\n\u001b[0;32m      <a href='vscode-notebook-cell:/c%3A/Users/wisel/Desktop/VNA/control.ipynb#W2sZmlsZQ%3D%3D?line=7'>8</a>\u001b[0m session \u001b[39m=\u001b[39m resourceManager\u001b[39m.\u001b[39mopen_resource(VISA_ADDRESS)\n\u001b[0;32m     <a href='vscode-notebook-cell:/c%3A/Users/wisel/Desktop/VNA/control.ipynb#W2sZmlsZQ%3D%3D?line=9'>10</a>\u001b[0m \u001b[39m# Command to preset the instrument and deletes the default trace, measurement, and window\u001b[39;00m\n\u001b[1;32m---> <a href='vscode-notebook-cell:/c%3A/Users/wisel/Desktop/VNA/control.ipynb#W2sZmlsZQ%3D%3D?line=10'>11</a>\u001b[0m session\u001b[39m.\u001b[39;49mwrite(\u001b[39m\"\u001b[39m\u001b[39mSYST:FPR\u001b[39m\u001b[39m\"\u001b[39m)\n\u001b[0;32m     <a href='vscode-notebook-cell:/c%3A/Users/wisel/Desktop/VNA/control.ipynb#W2sZmlsZQ%3D%3D?line=12'>13</a>\u001b[0m \u001b[39m# Create and turn on window 1\u001b[39;00m\n\u001b[0;32m     <a href='vscode-notebook-cell:/c%3A/Users/wisel/Desktop/VNA/control.ipynb#W2sZmlsZQ%3D%3D?line=13'>14</a>\u001b[0m session\u001b[39m.\u001b[39mwrite(\u001b[39m\"\u001b[39m\u001b[39mDISP:WIND1:STAT ON\u001b[39m\u001b[39m\"\u001b[39m)\n",
      "\u001b[1;31mAttributeError\u001b[0m: 'PXIInstrument' object has no attribute 'write'"
     ]
    }
   ],
   "source": [
    "import matplotlib.pyplot as plt\n",
    "\n",
    "# Change this variable to the address of your instrument\n",
    "VISA_ADDRESS = rm.list_resources()[0]\n",
    "\n",
    "# Create a connection (session) to the instrument\n",
    "resourceManager = visa.ResourceManager()\n",
    "session = resourceManager.open_resource(VISA_ADDRESS)\n",
    "\n",
    "# Command to preset the instrument and deletes the default trace, measurement, and window\n",
    "session.write(\"SYST:FPR\")\n",
    "\n",
    "# Create and turn on window 1\n",
    "session.write(\"DISP:WIND1:STAT ON\")\n",
    "\n",
    "# Create a S21 measurement\n",
    "session.write(\"CALC1:MEAS1:DEF 'S21'\")\n",
    "\n",
    "# Displays measurement 1 in window 1 and assigns the next available trace number to the measurement\n",
    "session.write(\"DISP:MEAS1:FEED 1\")\n",
    "\n",
    "# Set the active measurement to measurement 1\n",
    "session.write(\"CALC1:PAR:MNUM 1\")\n",
    "\n",
    "# Set sweep type to linear\n",
    "session.write(\"SENS1:SWE:TYPE LIN\")\n",
    "\n",
    "# Perfoms a single sweep\n",
    "session.write(\"SENS1:SWE:MODE SING\")\n",
    "opcCode = session.query(\"*OPC?\")\n",
    "\n",
    "# Get stimulus and formatted response data\n",
    "results = session.query_ascii_values(\"CALC1:MEAS1:DATA:FDATA?\")\n",
    "xValues = session.query_ascii_values(\"CALC1:MEAS1:X:VAL?\")\n",
    "\n",
    "plt.plot(xValues, results)\n",
    "plt.ylabel(\"dB\")\n",
    "plt.xlabel(\"Frequency\")\n",
    "plt.show()"
   ]
  },
  {
   "cell_type": "code",
   "execution_count": 6,
   "metadata": {},
   "outputs": [
    {
     "data": {
      "text/plain": [
       "['_Resource__switch_events_off',\n",
       " '__annotations__',\n",
       " '__class__',\n",
       " '__del__',\n",
       " '__delattr__',\n",
       " '__dict__',\n",
       " '__dir__',\n",
       " '__doc__',\n",
       " '__enter__',\n",
       " '__eq__',\n",
       " '__exit__',\n",
       " '__format__',\n",
       " '__ge__',\n",
       " '__getattribute__',\n",
       " '__getstate__',\n",
       " '__gt__',\n",
       " '__hash__',\n",
       " '__init__',\n",
       " '__init_subclass__',\n",
       " '__le__',\n",
       " '__lt__',\n",
       " '__module__',\n",
       " '__ne__',\n",
       " '__new__',\n",
       " '__reduce__',\n",
       " '__reduce_ex__',\n",
       " '__repr__',\n",
       " '__setattr__',\n",
       " '__sizeof__',\n",
       " '__str__',\n",
       " '__subclasshook__',\n",
       " '__weakref__',\n",
       " '_logging_extra',\n",
       " '_resource_manager',\n",
       " '_resource_name',\n",
       " '_session',\n",
       " 'allow_dma',\n",
       " 'before_close',\n",
       " 'clear',\n",
       " 'close',\n",
       " 'destination_increment',\n",
       " 'disable_event',\n",
       " 'discard_events',\n",
       " 'enable_event',\n",
       " 'get_visa_attribute',\n",
       " 'ignore_warning',\n",
       " 'implementation_version',\n",
       " 'install_handler',\n",
       " 'interface_number',\n",
       " 'interface_type',\n",
       " 'last_status',\n",
       " 'lock',\n",
       " 'lock_context',\n",
       " 'lock_excl',\n",
       " 'lock_state',\n",
       " 'manufacturer_id',\n",
       " 'manufacturer_name',\n",
       " 'model_code',\n",
       " 'model_name',\n",
       " 'move_in',\n",
       " 'move_out',\n",
       " 'open',\n",
       " 'read_memory',\n",
       " 'register',\n",
       " 'resource_class',\n",
       " 'resource_info',\n",
       " 'resource_manufacturer_name',\n",
       " 'resource_name',\n",
       " 'session',\n",
       " 'set_visa_attribute',\n",
       " 'source_increment',\n",
       " 'spec_version',\n",
       " 'timeout',\n",
       " 'uninstall_handler',\n",
       " 'unlock',\n",
       " 'visa_attributes_classes',\n",
       " 'visalib',\n",
       " 'wait_on_event',\n",
       " 'wrap_handler',\n",
       " 'write_memory']"
      ]
     },
     "execution_count": 6,
     "metadata": {},
     "output_type": "execute_result"
    }
   ],
   "source": [
    "dir(session)"
   ]
  },
  {
   "cell_type": "code",
   "execution_count": null,
   "metadata": {},
   "outputs": [],
   "source": [
    "session.write_memory()"
   ]
  }
 ],
 "metadata": {
  "kernelspec": {
   "display_name": "Python 3",
   "language": "python",
   "name": "python3"
  },
  "language_info": {
   "codemirror_mode": {
    "name": "ipython",
    "version": 3
   },
   "file_extension": ".py",
   "mimetype": "text/x-python",
   "name": "python",
   "nbconvert_exporter": "python",
   "pygments_lexer": "ipython3",
   "version": "3.11.3"
  }
 },
 "nbformat": 4,
 "nbformat_minor": 2
}
